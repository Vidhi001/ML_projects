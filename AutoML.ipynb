{
 "cells": [
  {
   "cell_type": "markdown",
   "metadata": {},
   "source": [
    "# &nbsp;&nbsp;&nbsp;&nbsp;&nbsp;**AutoML Assignment**"
   ]
  },
  {
   "cell_type": "code",
   "execution_count": 2,
   "metadata": {},
   "outputs": [
    {
     "data": {
      "text/html": [
       "<div>\n",
       "<style scoped>\n",
       "    .dataframe tbody tr th:only-of-type {\n",
       "        vertical-align: middle;\n",
       "    }\n",
       "\n",
       "    .dataframe tbody tr th {\n",
       "        vertical-align: top;\n",
       "    }\n",
       "\n",
       "    .dataframe thead th {\n",
       "        text-align: right;\n",
       "    }\n",
       "</style>\n",
       "<table border=\"1\" class=\"dataframe\">\n",
       "  <thead>\n",
       "    <tr style=\"text-align: right;\">\n",
       "      <th></th>\n",
       "      <th>id</th>\n",
       "      <th>Target A</th>\n",
       "      <th>Target B</th>\n",
       "      <th>LOAN_AMT</th>\n",
       "      <th>Business Title</th>\n",
       "      <th>Civil Service Title</th>\n",
       "      <th>Division/Work Unit</th>\n",
       "      <th>Job Description</th>\n",
       "      <th>Minimum Qual Requirements</th>\n",
       "      <th>Preferred Skills</th>\n",
       "      <th>...</th>\n",
       "      <th>purpose</th>\n",
       "      <th>title</th>\n",
       "      <th>zip_code</th>\n",
       "      <th>addr_state</th>\n",
       "      <th>dti</th>\n",
       "      <th>earliest_cr_line</th>\n",
       "      <th>last_pymnt_d</th>\n",
       "      <th>last_pymnt_amnt</th>\n",
       "      <th>next_pymnt_d</th>\n",
       "      <th>last_credit_pull_d</th>\n",
       "    </tr>\n",
       "  </thead>\n",
       "  <tbody>\n",
       "    <tr>\n",
       "      <th>0</th>\n",
       "      <td>68407277</td>\n",
       "      <td>42405.00</td>\n",
       "      <td>0</td>\n",
       "      <td>3600</td>\n",
       "      <td>Account Manager</td>\n",
       "      <td>CONTRACT REVIEWER (OFFICE OF L</td>\n",
       "      <td>Strategy &amp; Analytics</td>\n",
       "      <td>Division of Economic &amp; Financial Opportunity (...</td>\n",
       "      <td>1.\\tA baccalaureate degree from an accredited ...</td>\n",
       "      <td>â¢\\tExcellent interpersonal and organizationa...</td>\n",
       "      <td>...</td>\n",
       "      <td>debt_consolidation</td>\n",
       "      <td>Debt consolidation</td>\n",
       "      <td>190xx</td>\n",
       "      <td>PA</td>\n",
       "      <td>5.91</td>\n",
       "      <td>3-Aug</td>\n",
       "      <td>19-Jan</td>\n",
       "      <td>122.67</td>\n",
       "      <td>NaN</td>\n",
       "      <td>19-Mar</td>\n",
       "    </tr>\n",
       "    <tr>\n",
       "      <th>1</th>\n",
       "      <td>68355089</td>\n",
       "      <td>60740.00</td>\n",
       "      <td>1</td>\n",
       "      <td>24700</td>\n",
       "      <td>EXECUTIVE DIRECTOR, BUSINESS DEVELOPMENT</td>\n",
       "      <td>ADMINISTRATIVE BUSINESS PROMOT</td>\n",
       "      <td>Tech Talent Pipeline</td>\n",
       "      <td>The New York City Department of Small Business...</td>\n",
       "      <td>1. A baccalaureate degree from an accredited c...</td>\n",
       "      <td>NaN</td>\n",
       "      <td>...</td>\n",
       "      <td>small_business</td>\n",
       "      <td>Business</td>\n",
       "      <td>577xx</td>\n",
       "      <td>SD</td>\n",
       "      <td>16.06</td>\n",
       "      <td>Dec-99</td>\n",
       "      <td>16-Jun</td>\n",
       "      <td>926.35</td>\n",
       "      <td>NaN</td>\n",
       "      <td>19-Mar</td>\n",
       "    </tr>\n",
       "    <tr>\n",
       "      <th>2</th>\n",
       "      <td>68341763</td>\n",
       "      <td>51907.68</td>\n",
       "      <td>0</td>\n",
       "      <td>20000</td>\n",
       "      <td>Maintenance Worker - Technical Services-Heatin...</td>\n",
       "      <td>MAINTENANCE WORKER</td>\n",
       "      <td>Management Services Department</td>\n",
       "      <td>Under direct supervision, assist in the routin...</td>\n",
       "      <td>1. Three years of full-time satisfactory exper...</td>\n",
       "      <td>1.  A High School Diploma or GED.  2.  CDL Dri...</td>\n",
       "      <td>...</td>\n",
       "      <td>home_improvement</td>\n",
       "      <td>NaN</td>\n",
       "      <td>605xx</td>\n",
       "      <td>IL</td>\n",
       "      <td>10.78</td>\n",
       "      <td>Aug-00</td>\n",
       "      <td>17-Jun</td>\n",
       "      <td>15813.30</td>\n",
       "      <td>NaN</td>\n",
       "      <td>19-Mar</td>\n",
       "    </tr>\n",
       "    <tr>\n",
       "      <th>3</th>\n",
       "      <td>66310712</td>\n",
       "      <td>51907.68</td>\n",
       "      <td>0</td>\n",
       "      <td>35000</td>\n",
       "      <td>Maintenance Worker - Technical Services-Heatin...</td>\n",
       "      <td>MAINTENANCE WORKER</td>\n",
       "      <td>Management Services Department</td>\n",
       "      <td>Under direct supervision, assist in the routin...</td>\n",
       "      <td>1. Three years of full-time satisfactory exper...</td>\n",
       "      <td>1.  A High School Diploma or GED.  2.  CDL Dri...</td>\n",
       "      <td>...</td>\n",
       "      <td>debt_consolidation</td>\n",
       "      <td>Debt consolidation</td>\n",
       "      <td>076xx</td>\n",
       "      <td>NJ</td>\n",
       "      <td>17.06</td>\n",
       "      <td>8-Sep</td>\n",
       "      <td>19-Feb</td>\n",
       "      <td>829.90</td>\n",
       "      <td>19-Apr</td>\n",
       "      <td>19-Mar</td>\n",
       "    </tr>\n",
       "    <tr>\n",
       "      <th>4</th>\n",
       "      <td>68476807</td>\n",
       "      <td>35.00</td>\n",
       "      <td>1</td>\n",
       "      <td>10400</td>\n",
       "      <td>Temporary Painter</td>\n",
       "      <td>PAINTER</td>\n",
       "      <td>Dept of Management &amp; Planning</td>\n",
       "      <td>Responsibilities of selected candidates will i...</td>\n",
       "      <td>1. Five years of full-time satisfactory experi...</td>\n",
       "      <td>NaN</td>\n",
       "      <td>...</td>\n",
       "      <td>major_purchase</td>\n",
       "      <td>Major purchase</td>\n",
       "      <td>174xx</td>\n",
       "      <td>PA</td>\n",
       "      <td>25.37</td>\n",
       "      <td>Jun-98</td>\n",
       "      <td>16-Jul</td>\n",
       "      <td>10128.96</td>\n",
       "      <td>NaN</td>\n",
       "      <td>18-Mar</td>\n",
       "    </tr>\n",
       "  </tbody>\n",
       "</table>\n",
       "<p>5 rows × 69 columns</p>\n",
       "</div>"
      ],
      "text/plain": [
       "         id  Target A  Target B  LOAN_AMT  \\\n",
       "0  68407277  42405.00         0      3600   \n",
       "1  68355089  60740.00         1     24700   \n",
       "2  68341763  51907.68         0     20000   \n",
       "3  66310712  51907.68         0     35000   \n",
       "4  68476807     35.00         1     10400   \n",
       "\n",
       "                                      Business Title  \\\n",
       "0                                    Account Manager   \n",
       "1           EXECUTIVE DIRECTOR, BUSINESS DEVELOPMENT   \n",
       "2  Maintenance Worker - Technical Services-Heatin...   \n",
       "3  Maintenance Worker - Technical Services-Heatin...   \n",
       "4                                  Temporary Painter   \n",
       "\n",
       "              Civil Service Title              Division/Work Unit  \\\n",
       "0  CONTRACT REVIEWER (OFFICE OF L            Strategy & Analytics   \n",
       "1  ADMINISTRATIVE BUSINESS PROMOT            Tech Talent Pipeline   \n",
       "2              MAINTENANCE WORKER  Management Services Department   \n",
       "3              MAINTENANCE WORKER  Management Services Department   \n",
       "4                         PAINTER   Dept of Management & Planning   \n",
       "\n",
       "                                     Job Description  \\\n",
       "0  Division of Economic & Financial Opportunity (...   \n",
       "1  The New York City Department of Small Business...   \n",
       "2  Under direct supervision, assist in the routin...   \n",
       "3  Under direct supervision, assist in the routin...   \n",
       "4  Responsibilities of selected candidates will i...   \n",
       "\n",
       "                           Minimum Qual Requirements  \\\n",
       "0  1.\\tA baccalaureate degree from an accredited ...   \n",
       "1  1. A baccalaureate degree from an accredited c...   \n",
       "2  1. Three years of full-time satisfactory exper...   \n",
       "3  1. Three years of full-time satisfactory exper...   \n",
       "4  1. Five years of full-time satisfactory experi...   \n",
       "\n",
       "                                    Preferred Skills        ...          \\\n",
       "0  â¢\\tExcellent interpersonal and organizationa...        ...           \n",
       "1                                                NaN        ...           \n",
       "2  1.  A High School Diploma or GED.  2.  CDL Dri...        ...           \n",
       "3  1.  A High School Diploma or GED.  2.  CDL Dri...        ...           \n",
       "4                                                NaN        ...           \n",
       "\n",
       "              purpose               title zip_code addr_state    dti  \\\n",
       "0  debt_consolidation  Debt consolidation    190xx         PA   5.91   \n",
       "1      small_business            Business    577xx         SD  16.06   \n",
       "2    home_improvement                 NaN    605xx         IL  10.78   \n",
       "3  debt_consolidation  Debt consolidation    076xx         NJ  17.06   \n",
       "4      major_purchase      Major purchase    174xx         PA  25.37   \n",
       "\n",
       "  earliest_cr_line last_pymnt_d last_pymnt_amnt next_pymnt_d  \\\n",
       "0            3-Aug       19-Jan          122.67          NaN   \n",
       "1           Dec-99       16-Jun          926.35          NaN   \n",
       "2           Aug-00       17-Jun        15813.30          NaN   \n",
       "3            8-Sep       19-Feb          829.90       19-Apr   \n",
       "4           Jun-98       16-Jul        10128.96          NaN   \n",
       "\n",
       "  last_credit_pull_d  \n",
       "0             19-Mar  \n",
       "1             19-Mar  \n",
       "2             19-Mar  \n",
       "3             19-Mar  \n",
       "4             18-Mar  \n",
       "\n",
       "[5 rows x 69 columns]"
      ]
     },
     "execution_count": 2,
     "metadata": {},
     "output_type": "execute_result"
    }
   ],
   "source": [
    "# Read csv file\n",
    "import pandas as pd\n",
    "df = pd.read_csv(\"data/tough_dataset.csv\" ,encoding='ISO-8859-1') # engine ='python'--> It can also used.\n",
    "df.head()"
   ]
  },
  {
   "cell_type": "markdown",
   "metadata": {},
   "source": [
    "# 1) Handle missing values¶"
   ]
  },
  {
   "cell_type": "code",
   "execution_count": 3,
   "metadata": {},
   "outputs": [
    {
     "data": {
      "text/plain": [
       "48"
      ]
     },
     "execution_count": 3,
     "metadata": {},
     "output_type": "execute_result"
    }
   ],
   "source": [
    "#Check is there is any missing value or not\n",
    "df.isnull().any().sum()"
   ]
  },
  {
   "cell_type": "code",
   "execution_count": 4,
   "metadata": {},
   "outputs": [
    {
     "data": {
      "text/html": [
       "<div>\n",
       "<style scoped>\n",
       "    .dataframe tbody tr th:only-of-type {\n",
       "        vertical-align: middle;\n",
       "    }\n",
       "\n",
       "    .dataframe tbody tr th {\n",
       "        vertical-align: top;\n",
       "    }\n",
       "\n",
       "    .dataframe thead th {\n",
       "        text-align: right;\n",
       "    }\n",
       "</style>\n",
       "<table border=\"1\" class=\"dataframe\">\n",
       "  <thead>\n",
       "    <tr style=\"text-align: right;\">\n",
       "      <th></th>\n",
       "      <th>id</th>\n",
       "      <th>Target A</th>\n",
       "      <th>Target B</th>\n",
       "      <th>LOAN_AMT</th>\n",
       "      <th>Business Title</th>\n",
       "      <th>Civil Service Title</th>\n",
       "      <th>Division/Work Unit</th>\n",
       "      <th>Job Description</th>\n",
       "      <th>Minimum Qual Requirements</th>\n",
       "      <th>Preferred Skills</th>\n",
       "      <th>...</th>\n",
       "      <th>purpose</th>\n",
       "      <th>title</th>\n",
       "      <th>zip_code</th>\n",
       "      <th>addr_state</th>\n",
       "      <th>dti</th>\n",
       "      <th>earliest_cr_line</th>\n",
       "      <th>last_pymnt_d</th>\n",
       "      <th>last_pymnt_amnt</th>\n",
       "      <th>next_pymnt_d</th>\n",
       "      <th>last_credit_pull_d</th>\n",
       "    </tr>\n",
       "  </thead>\n",
       "  <tbody>\n",
       "    <tr>\n",
       "      <th>0</th>\n",
       "      <td>68407277</td>\n",
       "      <td>42405.00</td>\n",
       "      <td>0</td>\n",
       "      <td>3600</td>\n",
       "      <td>Account Manager</td>\n",
       "      <td>CONTRACT REVIEWER (OFFICE OF L</td>\n",
       "      <td>Strategy &amp; Analytics</td>\n",
       "      <td>Division of Economic &amp; Financial Opportunity (...</td>\n",
       "      <td>1.\\tA baccalaureate degree from an accredited ...</td>\n",
       "      <td>â¢\\tExcellent interpersonal and organizationa...</td>\n",
       "      <td>...</td>\n",
       "      <td>debt_consolidation</td>\n",
       "      <td>Debt consolidation</td>\n",
       "      <td>190xx</td>\n",
       "      <td>PA</td>\n",
       "      <td>5.91</td>\n",
       "      <td>3-Aug</td>\n",
       "      <td>19-Jan</td>\n",
       "      <td>122.67</td>\n",
       "      <td></td>\n",
       "      <td>19-Mar</td>\n",
       "    </tr>\n",
       "    <tr>\n",
       "      <th>1</th>\n",
       "      <td>68355089</td>\n",
       "      <td>60740.00</td>\n",
       "      <td>1</td>\n",
       "      <td>24700</td>\n",
       "      <td>EXECUTIVE DIRECTOR, BUSINESS DEVELOPMENT</td>\n",
       "      <td>ADMINISTRATIVE BUSINESS PROMOT</td>\n",
       "      <td>Tech Talent Pipeline</td>\n",
       "      <td>The New York City Department of Small Business...</td>\n",
       "      <td>1. A baccalaureate degree from an accredited c...</td>\n",
       "      <td></td>\n",
       "      <td>...</td>\n",
       "      <td>small_business</td>\n",
       "      <td>Business</td>\n",
       "      <td>577xx</td>\n",
       "      <td>SD</td>\n",
       "      <td>16.06</td>\n",
       "      <td>Dec-99</td>\n",
       "      <td>16-Jun</td>\n",
       "      <td>926.35</td>\n",
       "      <td></td>\n",
       "      <td>19-Mar</td>\n",
       "    </tr>\n",
       "    <tr>\n",
       "      <th>2</th>\n",
       "      <td>68341763</td>\n",
       "      <td>51907.68</td>\n",
       "      <td>0</td>\n",
       "      <td>20000</td>\n",
       "      <td>Maintenance Worker - Technical Services-Heatin...</td>\n",
       "      <td>MAINTENANCE WORKER</td>\n",
       "      <td>Management Services Department</td>\n",
       "      <td>Under direct supervision, assist in the routin...</td>\n",
       "      <td>1. Three years of full-time satisfactory exper...</td>\n",
       "      <td>1.  A High School Diploma or GED.  2.  CDL Dri...</td>\n",
       "      <td>...</td>\n",
       "      <td>home_improvement</td>\n",
       "      <td></td>\n",
       "      <td>605xx</td>\n",
       "      <td>IL</td>\n",
       "      <td>10.78</td>\n",
       "      <td>Aug-00</td>\n",
       "      <td>17-Jun</td>\n",
       "      <td>15813.30</td>\n",
       "      <td></td>\n",
       "      <td>19-Mar</td>\n",
       "    </tr>\n",
       "    <tr>\n",
       "      <th>3</th>\n",
       "      <td>66310712</td>\n",
       "      <td>51907.68</td>\n",
       "      <td>0</td>\n",
       "      <td>35000</td>\n",
       "      <td>Maintenance Worker - Technical Services-Heatin...</td>\n",
       "      <td>MAINTENANCE WORKER</td>\n",
       "      <td>Management Services Department</td>\n",
       "      <td>Under direct supervision, assist in the routin...</td>\n",
       "      <td>1. Three years of full-time satisfactory exper...</td>\n",
       "      <td>1.  A High School Diploma or GED.  2.  CDL Dri...</td>\n",
       "      <td>...</td>\n",
       "      <td>debt_consolidation</td>\n",
       "      <td>Debt consolidation</td>\n",
       "      <td>076xx</td>\n",
       "      <td>NJ</td>\n",
       "      <td>17.06</td>\n",
       "      <td>8-Sep</td>\n",
       "      <td>19-Feb</td>\n",
       "      <td>829.90</td>\n",
       "      <td>19-Apr</td>\n",
       "      <td>19-Mar</td>\n",
       "    </tr>\n",
       "    <tr>\n",
       "      <th>4</th>\n",
       "      <td>68476807</td>\n",
       "      <td>35.00</td>\n",
       "      <td>1</td>\n",
       "      <td>10400</td>\n",
       "      <td>Temporary Painter</td>\n",
       "      <td>PAINTER</td>\n",
       "      <td>Dept of Management &amp; Planning</td>\n",
       "      <td>Responsibilities of selected candidates will i...</td>\n",
       "      <td>1. Five years of full-time satisfactory experi...</td>\n",
       "      <td></td>\n",
       "      <td>...</td>\n",
       "      <td>major_purchase</td>\n",
       "      <td>Major purchase</td>\n",
       "      <td>174xx</td>\n",
       "      <td>PA</td>\n",
       "      <td>25.37</td>\n",
       "      <td>Jun-98</td>\n",
       "      <td>16-Jul</td>\n",
       "      <td>10128.96</td>\n",
       "      <td></td>\n",
       "      <td>18-Mar</td>\n",
       "    </tr>\n",
       "  </tbody>\n",
       "</table>\n",
       "<p>5 rows × 69 columns</p>\n",
       "</div>"
      ],
      "text/plain": [
       "         id  Target A  Target B  LOAN_AMT  \\\n",
       "0  68407277  42405.00         0      3600   \n",
       "1  68355089  60740.00         1     24700   \n",
       "2  68341763  51907.68         0     20000   \n",
       "3  66310712  51907.68         0     35000   \n",
       "4  68476807     35.00         1     10400   \n",
       "\n",
       "                                      Business Title  \\\n",
       "0                                    Account Manager   \n",
       "1           EXECUTIVE DIRECTOR, BUSINESS DEVELOPMENT   \n",
       "2  Maintenance Worker - Technical Services-Heatin...   \n",
       "3  Maintenance Worker - Technical Services-Heatin...   \n",
       "4                                  Temporary Painter   \n",
       "\n",
       "              Civil Service Title              Division/Work Unit  \\\n",
       "0  CONTRACT REVIEWER (OFFICE OF L            Strategy & Analytics   \n",
       "1  ADMINISTRATIVE BUSINESS PROMOT            Tech Talent Pipeline   \n",
       "2              MAINTENANCE WORKER  Management Services Department   \n",
       "3              MAINTENANCE WORKER  Management Services Department   \n",
       "4                         PAINTER   Dept of Management & Planning   \n",
       "\n",
       "                                     Job Description  \\\n",
       "0  Division of Economic & Financial Opportunity (...   \n",
       "1  The New York City Department of Small Business...   \n",
       "2  Under direct supervision, assist in the routin...   \n",
       "3  Under direct supervision, assist in the routin...   \n",
       "4  Responsibilities of selected candidates will i...   \n",
       "\n",
       "                           Minimum Qual Requirements  \\\n",
       "0  1.\\tA baccalaureate degree from an accredited ...   \n",
       "1  1. A baccalaureate degree from an accredited c...   \n",
       "2  1. Three years of full-time satisfactory exper...   \n",
       "3  1. Three years of full-time satisfactory exper...   \n",
       "4  1. Five years of full-time satisfactory experi...   \n",
       "\n",
       "                                    Preferred Skills        ...          \\\n",
       "0  â¢\\tExcellent interpersonal and organizationa...        ...           \n",
       "1                                                           ...           \n",
       "2  1.  A High School Diploma or GED.  2.  CDL Dri...        ...           \n",
       "3  1.  A High School Diploma or GED.  2.  CDL Dri...        ...           \n",
       "4                                                           ...           \n",
       "\n",
       "              purpose               title zip_code addr_state    dti  \\\n",
       "0  debt_consolidation  Debt consolidation    190xx         PA   5.91   \n",
       "1      small_business            Business    577xx         SD  16.06   \n",
       "2    home_improvement                        605xx         IL  10.78   \n",
       "3  debt_consolidation  Debt consolidation    076xx         NJ  17.06   \n",
       "4      major_purchase      Major purchase    174xx         PA  25.37   \n",
       "\n",
       "  earliest_cr_line last_pymnt_d last_pymnt_amnt next_pymnt_d  \\\n",
       "0            3-Aug       19-Jan          122.67                \n",
       "1           Dec-99       16-Jun          926.35                \n",
       "2           Aug-00       17-Jun        15813.30                \n",
       "3            8-Sep       19-Feb          829.90       19-Apr   \n",
       "4           Jun-98       16-Jul        10128.96                \n",
       "\n",
       "  last_credit_pull_d  \n",
       "0             19-Mar  \n",
       "1             19-Mar  \n",
       "2             19-Mar  \n",
       "3             19-Mar  \n",
       "4             18-Mar  \n",
       "\n",
       "[5 rows x 69 columns]"
      ]
     },
     "execution_count": 4,
     "metadata": {},
     "output_type": "execute_result"
    }
   ],
   "source": [
    "#Fill the missing value\n",
    "df = df.fillna(' ')\n",
    "df.head()"
   ]
  },
  {
   "cell_type": "code",
   "execution_count": 5,
   "metadata": {},
   "outputs": [
    {
     "data": {
      "text/plain": [
       "0"
      ]
     },
     "execution_count": 5,
     "metadata": {},
     "output_type": "execute_result"
    }
   ],
   "source": [
    "df.isnull().any().sum()"
   ]
  },
  {
   "cell_type": "markdown",
   "metadata": {},
   "source": [
    "# 2) Drop the columns"
   ]
  },
  {
   "cell_type": "code",
   "execution_count": 6,
   "metadata": {},
   "outputs": [],
   "source": [
    "#Drop the target columns\n",
    "y1=df['Target A']\n",
    "y2=df['Target B']\n",
    "\n",
    "X=df.drop(['Target A','Target B'],axis=1)"
   ]
  },
  {
   "cell_type": "markdown",
   "metadata": {},
   "source": [
    "#### a. Features and target should not have null values."
   ]
  },
  {
   "cell_type": "code",
   "execution_count": 7,
   "metadata": {},
   "outputs": [
    {
     "name": "stdout",
     "output_type": "stream",
     "text": [
      "<class 'pandas.core.frame.DataFrame'>\n",
      "RangeIndex: 2946 entries, 0 to 2945\n",
      "Data columns (total 69 columns):\n",
      "id                           2946 non-null int64\n",
      "Target A                     2946 non-null float64\n",
      "Target B                     2946 non-null int64\n",
      "LOAN_AMT                     2946 non-null int64\n",
      "Business Title               2946 non-null object\n",
      "Civil Service Title          2946 non-null object\n",
      "Division/Work Unit           2946 non-null object\n",
      "Job Description              2946 non-null object\n",
      "Minimum Qual Requirements    2946 non-null object\n",
      "Preferred Skills             2946 non-null object\n",
      "Additional Information       2946 non-null object\n",
      "To Apply                     2946 non-null object\n",
      "Hours/Shift                  2946 non-null object\n",
      "Residency Requirement        2946 non-null object\n",
      "Posting Date                 2946 non-null object\n",
      "Posting Updated              2946 non-null object\n",
      "Process Date                 2946 non-null object\n",
      "FormalEducation              2946 non-null object\n",
      "UndergradMajor               2946 non-null object\n",
      "CompanySize                  2946 non-null object\n",
      "DevType                      2946 non-null object\n",
      "YearsCoding                  2946 non-null object\n",
      "YearsCodingProf              2946 non-null object\n",
      "HopeFiveYears                2946 non-null object\n",
      "JobSearchStatus              2946 non-null object\n",
      "LastNewJob                   2946 non-null object\n",
      "UpdateCV                     2946 non-null object\n",
      "CommunicationTools           2946 non-null object\n",
      "TimeFullyProductive          2946 non-null object\n",
      "EducationTypes               2946 non-null object\n",
      "SelfTaughtTypes              2946 non-null object\n",
      "TimeAfterBootcamp            2946 non-null object\n",
      "HackathonReasons             2946 non-null object\n",
      "AgreeDisagree1               2946 non-null object\n",
      "AgreeDisagree2               2946 non-null object\n",
      "AgreeDisagree3               2946 non-null object\n",
      "LanguageWorkedWith           2946 non-null object\n",
      "LanguageDesireNextYear       2946 non-null object\n",
      "DatabaseWorkedWith           2946 non-null object\n",
      "DatabaseDesireNextYear       2946 non-null object\n",
      "PlatformWorkedWith           2946 non-null object\n",
      "PlatformDesireNextYear       2946 non-null object\n",
      "FrameworkWorkedWith          2946 non-null object\n",
      "FrameworkDesireNextYear      2946 non-null object\n",
      "IDE                          2946 non-null object\n",
      "OperatingSystem              2946 non-null object\n",
      "Methodology                  2946 non-null object\n",
      "VersionControl               2946 non-null object\n",
      "CheckInCode                  2946 non-null object\n",
      "AIDangerous                  2946 non-null object\n",
      "AIInteresting                2946 non-null object\n",
      "AIResponsible                2946 non-null object\n",
      "AIFuture                     2946 non-null object\n",
      "Age                          2946 non-null object\n",
      "term                         2946 non-null object\n",
      "emp_length                   2946 non-null object\n",
      "loan_status                  2946 non-null object\n",
      "pymnt_plan                   2946 non-null object\n",
      "url                          2946 non-null object\n",
      "purpose                      2946 non-null object\n",
      "title                        2946 non-null object\n",
      "zip_code                     2946 non-null object\n",
      "addr_state                   2946 non-null object\n",
      "dti                          2946 non-null float64\n",
      "earliest_cr_line             2946 non-null object\n",
      "last_pymnt_d                 2946 non-null object\n",
      "last_pymnt_amnt              2946 non-null float64\n",
      "next_pymnt_d                 2946 non-null object\n",
      "last_credit_pull_d           2946 non-null object\n",
      "dtypes: float64(3), int64(3), object(63)\n",
      "memory usage: 1.6+ MB\n"
     ]
    }
   ],
   "source": [
    "#Dataset information.\n",
    "df.info()"
   ]
  },
  {
   "cell_type": "markdown",
   "metadata": {},
   "source": [
    "#### b. Features should be in the form of columns and rows."
   ]
  },
  {
   "cell_type": "code",
   "execution_count": 8,
   "metadata": {},
   "outputs": [
    {
     "data": {
      "text/plain": [
       "(2946, 67)"
      ]
     },
     "execution_count": 8,
     "metadata": {},
     "output_type": "execute_result"
    }
   ],
   "source": [
    "#Shape of the dataset\n",
    "X.shape"
   ]
  },
  {
   "cell_type": "markdown",
   "metadata": {},
   "source": [
    "####  c. Features should be of Dataframe/ arary type."
   ]
  },
  {
   "cell_type": "code",
   "execution_count": 9,
   "metadata": {},
   "outputs": [
    {
     "data": {
      "text/plain": [
       "pandas.core.frame.DataFrame"
      ]
     },
     "execution_count": 9,
     "metadata": {},
     "output_type": "execute_result"
    }
   ],
   "source": [
    "#Type of Dataset\n",
    "type(X)"
   ]
  },
  {
   "cell_type": "markdown",
   "metadata": {},
   "source": [
    "#### d. Features should be numeric only."
   ]
  },
  {
   "cell_type": "code",
   "execution_count": 10,
   "metadata": {},
   "outputs": [
    {
     "data": {
      "text/plain": [
       "id                             int64\n",
       "LOAN_AMT                       int64\n",
       "Business Title                object\n",
       "Civil Service Title           object\n",
       "Division/Work Unit            object\n",
       "Job Description               object\n",
       "Minimum Qual Requirements     object\n",
       "Preferred Skills              object\n",
       "Additional Information        object\n",
       "To Apply                      object\n",
       "Hours/Shift                   object\n",
       "Residency Requirement         object\n",
       "Posting Date                  object\n",
       "Posting Updated               object\n",
       "Process Date                  object\n",
       "FormalEducation               object\n",
       "UndergradMajor                object\n",
       "CompanySize                   object\n",
       "DevType                       object\n",
       "YearsCoding                   object\n",
       "YearsCodingProf               object\n",
       "HopeFiveYears                 object\n",
       "JobSearchStatus               object\n",
       "LastNewJob                    object\n",
       "UpdateCV                      object\n",
       "CommunicationTools            object\n",
       "TimeFullyProductive           object\n",
       "EducationTypes                object\n",
       "SelfTaughtTypes               object\n",
       "TimeAfterBootcamp             object\n",
       "                              ...   \n",
       "DatabaseDesireNextYear        object\n",
       "PlatformWorkedWith            object\n",
       "PlatformDesireNextYear        object\n",
       "FrameworkWorkedWith           object\n",
       "FrameworkDesireNextYear       object\n",
       "IDE                           object\n",
       "OperatingSystem               object\n",
       "Methodology                   object\n",
       "VersionControl                object\n",
       "CheckInCode                   object\n",
       "AIDangerous                   object\n",
       "AIInteresting                 object\n",
       "AIResponsible                 object\n",
       "AIFuture                      object\n",
       "Age                           object\n",
       "term                          object\n",
       "emp_length                    object\n",
       "loan_status                   object\n",
       "pymnt_plan                    object\n",
       "url                           object\n",
       "purpose                       object\n",
       "title                         object\n",
       "zip_code                      object\n",
       "addr_state                    object\n",
       "dti                          float64\n",
       "earliest_cr_line              object\n",
       "last_pymnt_d                  object\n",
       "last_pymnt_amnt              float64\n",
       "next_pymnt_d                  object\n",
       "last_credit_pull_d            object\n",
       "Length: 67, dtype: object"
      ]
     },
     "execution_count": 10,
     "metadata": {},
     "output_type": "execute_result"
    }
   ],
   "source": [
    "# Datatype of dataset columns\n",
    "X.dtypes"
   ]
  },
  {
   "cell_type": "markdown",
   "metadata": {},
   "source": [
    "# 3) Using one-hot encoding"
   ]
  },
  {
   "cell_type": "code",
   "execution_count": 11,
   "metadata": {},
   "outputs": [],
   "source": [
    "# One-hot encoding\n",
    "X = pd.get_dummies(X,columns=['Business Title','Civil Service Title','Division/Work Unit','Job Description','Minimum Qual Requirements','Preferred Skills','Additional Information','To Apply','Hours/Shift','Residency Requirement','Posting Date','Posting Updated','Process Date','FormalEducation','UndergradMajor','CompanySize','DevType','YearsCoding','YearsCodingProf', 'HopeFiveYears', 'JobSearchStatus','LastNewJob','UpdateCV','CommunicationTools','TimeFullyProductive','EducationTypes','SelfTaughtTypes', 'TimeAfterBootcamp','HackathonReasons','AgreeDisagree1','AgreeDisagree2','AgreeDisagree3','LanguageWorkedWith','LanguageDesireNextYear','DatabaseWorkedWith','DatabaseDesireNextYear','PlatformWorkedWith','PlatformDesireNextYear','FrameworkWorkedWith','FrameworkDesireNextYear','IDE','OperatingSystem',                              'Methodology','VersionControl','CheckInCode','AIDangerous','AIInteresting','AIResponsible','AIFuture','Age','term','emp_length','loan_status','pymnt_plan','url','purpose','title','zip_code','addr_state','earliest_cr_line','last_pymnt_d','next_pymnt_d','last_credit_pull_d'],drop_first=True)"
   ]
  },
  {
   "cell_type": "code",
   "execution_count": 12,
   "metadata": {},
   "outputs": [
    {
     "data": {
      "text/html": [
       "<div>\n",
       "<style scoped>\n",
       "    .dataframe tbody tr th:only-of-type {\n",
       "        vertical-align: middle;\n",
       "    }\n",
       "\n",
       "    .dataframe tbody tr th {\n",
       "        vertical-align: top;\n",
       "    }\n",
       "\n",
       "    .dataframe thead th {\n",
       "        text-align: right;\n",
       "    }\n",
       "</style>\n",
       "<table border=\"1\" class=\"dataframe\">\n",
       "  <thead>\n",
       "    <tr style=\"text-align: right;\">\n",
       "      <th></th>\n",
       "      <th>id</th>\n",
       "      <th>LOAN_AMT</th>\n",
       "      <th>dti</th>\n",
       "      <th>last_pymnt_amnt</th>\n",
       "      <th>Business Title_.NET Developer/Programmer Analyst</th>\n",
       "      <th>Business Title_.Net Developer, Bureau of Application Development and Database Administration</th>\n",
       "      <th>Business Title_.Net Programmer / Analyst</th>\n",
       "      <th>Business Title_311 Call Center Manager</th>\n",
       "      <th>Business Title_311 Escalation Line Team Leader</th>\n",
       "      <th>Business Title_A-Team Supervisor</th>\n",
       "      <th>...</th>\n",
       "      <th>last_credit_pull_d_18-Jul</th>\n",
       "      <th>last_credit_pull_d_18-Jun</th>\n",
       "      <th>last_credit_pull_d_18-Mar</th>\n",
       "      <th>last_credit_pull_d_18-May</th>\n",
       "      <th>last_credit_pull_d_18-Nov</th>\n",
       "      <th>last_credit_pull_d_18-Oct</th>\n",
       "      <th>last_credit_pull_d_18-Sep</th>\n",
       "      <th>last_credit_pull_d_19-Feb</th>\n",
       "      <th>last_credit_pull_d_19-Jan</th>\n",
       "      <th>last_credit_pull_d_19-Mar</th>\n",
       "    </tr>\n",
       "  </thead>\n",
       "  <tbody>\n",
       "    <tr>\n",
       "      <th>0</th>\n",
       "      <td>68407277</td>\n",
       "      <td>3600</td>\n",
       "      <td>5.91</td>\n",
       "      <td>122.67</td>\n",
       "      <td>0</td>\n",
       "      <td>0</td>\n",
       "      <td>0</td>\n",
       "      <td>0</td>\n",
       "      <td>0</td>\n",
       "      <td>0</td>\n",
       "      <td>...</td>\n",
       "      <td>0</td>\n",
       "      <td>0</td>\n",
       "      <td>0</td>\n",
       "      <td>0</td>\n",
       "      <td>0</td>\n",
       "      <td>0</td>\n",
       "      <td>0</td>\n",
       "      <td>0</td>\n",
       "      <td>0</td>\n",
       "      <td>1</td>\n",
       "    </tr>\n",
       "    <tr>\n",
       "      <th>1</th>\n",
       "      <td>68355089</td>\n",
       "      <td>24700</td>\n",
       "      <td>16.06</td>\n",
       "      <td>926.35</td>\n",
       "      <td>0</td>\n",
       "      <td>0</td>\n",
       "      <td>0</td>\n",
       "      <td>0</td>\n",
       "      <td>0</td>\n",
       "      <td>0</td>\n",
       "      <td>...</td>\n",
       "      <td>0</td>\n",
       "      <td>0</td>\n",
       "      <td>0</td>\n",
       "      <td>0</td>\n",
       "      <td>0</td>\n",
       "      <td>0</td>\n",
       "      <td>0</td>\n",
       "      <td>0</td>\n",
       "      <td>0</td>\n",
       "      <td>1</td>\n",
       "    </tr>\n",
       "    <tr>\n",
       "      <th>2</th>\n",
       "      <td>68341763</td>\n",
       "      <td>20000</td>\n",
       "      <td>10.78</td>\n",
       "      <td>15813.30</td>\n",
       "      <td>0</td>\n",
       "      <td>0</td>\n",
       "      <td>0</td>\n",
       "      <td>0</td>\n",
       "      <td>0</td>\n",
       "      <td>0</td>\n",
       "      <td>...</td>\n",
       "      <td>0</td>\n",
       "      <td>0</td>\n",
       "      <td>0</td>\n",
       "      <td>0</td>\n",
       "      <td>0</td>\n",
       "      <td>0</td>\n",
       "      <td>0</td>\n",
       "      <td>0</td>\n",
       "      <td>0</td>\n",
       "      <td>1</td>\n",
       "    </tr>\n",
       "    <tr>\n",
       "      <th>3</th>\n",
       "      <td>66310712</td>\n",
       "      <td>35000</td>\n",
       "      <td>17.06</td>\n",
       "      <td>829.90</td>\n",
       "      <td>0</td>\n",
       "      <td>0</td>\n",
       "      <td>0</td>\n",
       "      <td>0</td>\n",
       "      <td>0</td>\n",
       "      <td>0</td>\n",
       "      <td>...</td>\n",
       "      <td>0</td>\n",
       "      <td>0</td>\n",
       "      <td>0</td>\n",
       "      <td>0</td>\n",
       "      <td>0</td>\n",
       "      <td>0</td>\n",
       "      <td>0</td>\n",
       "      <td>0</td>\n",
       "      <td>0</td>\n",
       "      <td>1</td>\n",
       "    </tr>\n",
       "    <tr>\n",
       "      <th>4</th>\n",
       "      <td>68476807</td>\n",
       "      <td>10400</td>\n",
       "      <td>25.37</td>\n",
       "      <td>10128.96</td>\n",
       "      <td>0</td>\n",
       "      <td>0</td>\n",
       "      <td>0</td>\n",
       "      <td>0</td>\n",
       "      <td>0</td>\n",
       "      <td>0</td>\n",
       "      <td>...</td>\n",
       "      <td>0</td>\n",
       "      <td>0</td>\n",
       "      <td>1</td>\n",
       "      <td>0</td>\n",
       "      <td>0</td>\n",
       "      <td>0</td>\n",
       "      <td>0</td>\n",
       "      <td>0</td>\n",
       "      <td>0</td>\n",
       "      <td>0</td>\n",
       "    </tr>\n",
       "  </tbody>\n",
       "</table>\n",
       "<p>5 rows × 22309 columns</p>\n",
       "</div>"
      ],
      "text/plain": [
       "         id  LOAN_AMT    dti  last_pymnt_amnt  \\\n",
       "0  68407277      3600   5.91           122.67   \n",
       "1  68355089     24700  16.06           926.35   \n",
       "2  68341763     20000  10.78         15813.30   \n",
       "3  66310712     35000  17.06           829.90   \n",
       "4  68476807     10400  25.37         10128.96   \n",
       "\n",
       "   Business Title_.NET Developer/Programmer Analyst  \\\n",
       "0                                                 0   \n",
       "1                                                 0   \n",
       "2                                                 0   \n",
       "3                                                 0   \n",
       "4                                                 0   \n",
       "\n",
       "   Business Title_.Net Developer, Bureau of Application Development and Database Administration  \\\n",
       "0                                                  0                                              \n",
       "1                                                  0                                              \n",
       "2                                                  0                                              \n",
       "3                                                  0                                              \n",
       "4                                                  0                                              \n",
       "\n",
       "   Business Title_.Net Programmer / Analyst  \\\n",
       "0                                         0   \n",
       "1                                         0   \n",
       "2                                         0   \n",
       "3                                         0   \n",
       "4                                         0   \n",
       "\n",
       "   Business Title_311 Call Center Manager  \\\n",
       "0                                       0   \n",
       "1                                       0   \n",
       "2                                       0   \n",
       "3                                       0   \n",
       "4                                       0   \n",
       "\n",
       "   Business Title_311 Escalation Line Team Leader  \\\n",
       "0                                               0   \n",
       "1                                               0   \n",
       "2                                               0   \n",
       "3                                               0   \n",
       "4                                               0   \n",
       "\n",
       "   Business Title_A-Team Supervisor            ...              \\\n",
       "0                                 0            ...               \n",
       "1                                 0            ...               \n",
       "2                                 0            ...               \n",
       "3                                 0            ...               \n",
       "4                                 0            ...               \n",
       "\n",
       "   last_credit_pull_d_18-Jul  last_credit_pull_d_18-Jun  \\\n",
       "0                          0                          0   \n",
       "1                          0                          0   \n",
       "2                          0                          0   \n",
       "3                          0                          0   \n",
       "4                          0                          0   \n",
       "\n",
       "   last_credit_pull_d_18-Mar  last_credit_pull_d_18-May  \\\n",
       "0                          0                          0   \n",
       "1                          0                          0   \n",
       "2                          0                          0   \n",
       "3                          0                          0   \n",
       "4                          1                          0   \n",
       "\n",
       "   last_credit_pull_d_18-Nov  last_credit_pull_d_18-Oct  \\\n",
       "0                          0                          0   \n",
       "1                          0                          0   \n",
       "2                          0                          0   \n",
       "3                          0                          0   \n",
       "4                          0                          0   \n",
       "\n",
       "   last_credit_pull_d_18-Sep  last_credit_pull_d_19-Feb  \\\n",
       "0                          0                          0   \n",
       "1                          0                          0   \n",
       "2                          0                          0   \n",
       "3                          0                          0   \n",
       "4                          0                          0   \n",
       "\n",
       "   last_credit_pull_d_19-Jan  last_credit_pull_d_19-Mar  \n",
       "0                          0                          1  \n",
       "1                          0                          1  \n",
       "2                          0                          1  \n",
       "3                          0                          1  \n",
       "4                          0                          0  \n",
       "\n",
       "[5 rows x 22309 columns]"
      ]
     },
     "execution_count": 12,
     "metadata": {},
     "output_type": "execute_result"
    }
   ],
   "source": [
    "X.head()"
   ]
  },
  {
   "cell_type": "markdown",
   "metadata": {},
   "source": [
    "# <hr>"
   ]
  },
  {
   "cell_type": "markdown",
   "metadata": {},
   "source": [
    "# CALCULATION FOR \"TARGET-A\"<hr>"
   ]
  },
  {
   "cell_type": "markdown",
   "metadata": {},
   "source": [
    "#### a) TRAIN - TEST SPLIT"
   ]
  },
  {
   "cell_type": "code",
   "execution_count": 13,
   "metadata": {},
   "outputs": [],
   "source": [
    "# Split the data into train and test dataset\n",
    "from sklearn.model_selection import train_test_split\n",
    "X1_train,X1_test,y1_train,y1_test = train_test_split(X,y1,test_size=0.20,random_state=15)"
   ]
  },
  {
   "cell_type": "markdown",
   "metadata": {},
   "source": [
    "# 4)  Perform feature scaling"
   ]
  },
  {
   "cell_type": "code",
   "execution_count": 14,
   "metadata": {},
   "outputs": [
    {
     "name": "stderr",
     "output_type": "stream",
     "text": [
      "C:\\Users\\DELL\\Anaconda3\\lib\\site-packages\\sklearn\\preprocessing\\data.py:625: DataConversionWarning: Data with input dtype uint8, int64, float64 were all converted to float64 by StandardScaler.\n",
      "  return self.partial_fit(X, y)\n",
      "C:\\Users\\DELL\\Anaconda3\\lib\\site-packages\\sklearn\\base.py:462: DataConversionWarning: Data with input dtype uint8, int64, float64 were all converted to float64 by StandardScaler.\n",
      "  return self.fit(X, **fit_params).transform(X)\n",
      "C:\\Users\\DELL\\Anaconda3\\lib\\site-packages\\ipykernel_launcher.py:5: DataConversionWarning: Data with input dtype uint8, int64, float64 were all converted to float64 by StandardScaler.\n",
      "  \"\"\"\n"
     ]
    }
   ],
   "source": [
    "#Perform feature scaling \n",
    "from sklearn.preprocessing import StandardScaler\n",
    "scaler = StandardScaler()\n",
    "X1_train_scaler = scaler.fit_transform(X1_train)\n",
    "X1_test_scaler = scaler.transform(X1_test)"
   ]
  },
  {
   "cell_type": "markdown",
   "metadata": {},
   "source": [
    "# 5a) Using a RandomForestRegressor on column \"Target A\"."
   ]
  },
  {
   "cell_type": "code",
   "execution_count": 15,
   "metadata": {},
   "outputs": [],
   "source": [
    "#Use RandomForestRegressor\n",
    "from sklearn.ensemble import RandomForestRegressor\n",
    "forest = RandomForestRegressor(random_state = 2)"
   ]
  },
  {
   "cell_type": "markdown",
   "metadata": {},
   "source": [
    "#### a) Fit"
   ]
  },
  {
   "cell_type": "code",
   "execution_count": 16,
   "metadata": {},
   "outputs": [
    {
     "name": "stderr",
     "output_type": "stream",
     "text": [
      "C:\\Users\\DELL\\Anaconda3\\lib\\site-packages\\sklearn\\ensemble\\forest.py:246: FutureWarning: The default value of n_estimators will change from 10 in version 0.20 to 100 in 0.22.\n",
      "  \"10 in version 0.20 to 100 in 0.22.\", FutureWarning)\n"
     ]
    },
    {
     "data": {
      "text/plain": [
       "RandomForestRegressor(bootstrap=True, criterion='mse', max_depth=None,\n",
       "           max_features='auto', max_leaf_nodes=None,\n",
       "           min_impurity_decrease=0.0, min_impurity_split=None,\n",
       "           min_samples_leaf=1, min_samples_split=2,\n",
       "           min_weight_fraction_leaf=0.0, n_estimators=10, n_jobs=None,\n",
       "           oob_score=False, random_state=2, verbose=0, warm_start=False)"
      ]
     },
     "execution_count": 16,
     "metadata": {},
     "output_type": "execute_result"
    }
   ],
   "source": [
    "#Fit on train and test dataset\n",
    "forest.fit(X1_train,y1_train)"
   ]
  },
  {
   "cell_type": "markdown",
   "metadata": {},
   "source": [
    "#### b) Predict"
   ]
  },
  {
   "cell_type": "code",
   "execution_count": 17,
   "metadata": {},
   "outputs": [],
   "source": [
    "# Predict on test as well as on train dataset\n",
    "y1_pred_train= forest.predict(X1_train) \n",
    "y1_pred= forest.predict(X1_test) "
   ]
  },
  {
   "cell_type": "markdown",
   "metadata": {},
   "source": [
    "# 6a) Calculate the score."
   ]
  },
  {
   "cell_type": "code",
   "execution_count": 18,
   "metadata": {},
   "outputs": [
    {
     "data": {
      "text/plain": [
       "0.6060556411782992"
      ]
     },
     "execution_count": 18,
     "metadata": {},
     "output_type": "execute_result"
    }
   ],
   "source": [
    "# Score on test dataset\n",
    "forest.score(X1_test,y1_test)"
   ]
  },
  {
   "cell_type": "markdown",
   "metadata": {},
   "source": [
    "# 7a) Apply RMSE"
   ]
  },
  {
   "cell_type": "code",
   "execution_count": 19,
   "metadata": {},
   "outputs": [
    {
     "data": {
      "text/plain": [
       "206.47039579371815"
      ]
     },
     "execution_count": 19,
     "metadata": {},
     "output_type": "execute_result"
    }
   ],
   "source": [
    "# Calculate Root mean squared error on train dataset\n",
    "from sklearn.metrics import mean_squared_error\n",
    "import numpy as np\n",
    "rms = np.sqrt(np.mean((np.array(pd.DataFrame(y1_train)))-(np.array(pd.DataFrame(y1_pred_train))) )**2)\n",
    "rms"
   ]
  },
  {
   "cell_type": "code",
   "execution_count": 20,
   "metadata": {},
   "outputs": [
    {
     "data": {
      "text/plain": [
       "1449.0514639152543"
      ]
     },
     "execution_count": 20,
     "metadata": {},
     "output_type": "execute_result"
    }
   ],
   "source": [
    "# Calculate Root mean squared error on train dataset\n",
    "rms1 = np.sqrt(np.mean((np.array(pd.DataFrame(y1_test)))-(np.array(pd.DataFrame(y1_pred))))**2)\n",
    "rms1"
   ]
  },
  {
   "cell_type": "markdown",
   "metadata": {},
   "source": [
    "# <hr>"
   ]
  },
  {
   "cell_type": "markdown",
   "metadata": {},
   "source": [
    "# CALCULATION FOR \"TARGET-B\"<hr>"
   ]
  },
  {
   "cell_type": "markdown",
   "metadata": {},
   "source": [
    "#### a) TRAIN - TEST SPLIT"
   ]
  },
  {
   "cell_type": "code",
   "execution_count": 21,
   "metadata": {},
   "outputs": [],
   "source": [
    "# Split the data into train and test dataset\n",
    "X2_train,X2_test,y2_train,y2_test = train_test_split(X,y2,test_size=0.20,random_state=0)"
   ]
  },
  {
   "cell_type": "markdown",
   "metadata": {},
   "source": [
    "# 5b) Using a DecisionTreeClassifier on column \"Target B\"."
   ]
  },
  {
   "cell_type": "code",
   "execution_count": 22,
   "metadata": {},
   "outputs": [
    {
     "data": {
      "text/plain": [
       "DecisionTreeClassifier(class_weight=None, criterion='gini', max_depth=None,\n",
       "            max_features=None, max_leaf_nodes=None,\n",
       "            min_impurity_decrease=0.0, min_impurity_split=None,\n",
       "            min_samples_leaf=1, min_samples_split=2,\n",
       "            min_weight_fraction_leaf=0.0, presort=False, random_state=None,\n",
       "            splitter='best')"
      ]
     },
     "execution_count": 22,
     "metadata": {},
     "output_type": "execute_result"
    }
   ],
   "source": [
    "# Use DecisionTreeClassifier\n",
    "from sklearn.tree import DecisionTreeClassifier\n",
    "model = DecisionTreeClassifier()\n",
    "model.fit(X2_train,y2_train)"
   ]
  },
  {
   "cell_type": "markdown",
   "metadata": {},
   "source": [
    " #### a)Fit"
   ]
  },
  {
   "cell_type": "code",
   "execution_count": 23,
   "metadata": {},
   "outputs": [
    {
     "data": {
      "text/plain": [
       "DecisionTreeClassifier(class_weight=None, criterion='gini', max_depth=None,\n",
       "            max_features=None, max_leaf_nodes=None,\n",
       "            min_impurity_decrease=0.0, min_impurity_split=None,\n",
       "            min_samples_leaf=1, min_samples_split=2,\n",
       "            min_weight_fraction_leaf=0.0, presort=False, random_state=None,\n",
       "            splitter='best')"
      ]
     },
     "execution_count": 23,
     "metadata": {},
     "output_type": "execute_result"
    }
   ],
   "source": [
    "#Fit on train and test dataset\n",
    "model.fit(X2_train,y2_train)"
   ]
  },
  {
   "cell_type": "markdown",
   "metadata": {},
   "source": [
    "#### b)Predict"
   ]
  },
  {
   "cell_type": "code",
   "execution_count": 24,
   "metadata": {},
   "outputs": [],
   "source": [
    "# Predict on test dataset\n",
    "y2_pred=model.predict(X2_test) "
   ]
  },
  {
   "cell_type": "markdown",
   "metadata": {},
   "source": [
    "# 6b) Calculate the score."
   ]
  },
  {
   "cell_type": "code",
   "execution_count": 25,
   "metadata": {},
   "outputs": [
    {
     "data": {
      "text/plain": [
       "0.6915254237288135"
      ]
     },
     "execution_count": 25,
     "metadata": {},
     "output_type": "execute_result"
    }
   ],
   "source": [
    "# Score on test datset\n",
    "model.score(X2_test,y2_test)"
   ]
  },
  {
   "cell_type": "markdown",
   "metadata": {},
   "source": [
    "# 7b) Apply F1-score"
   ]
  },
  {
   "cell_type": "code",
   "execution_count": 26,
   "metadata": {},
   "outputs": [
    {
     "data": {
      "text/plain": [
       "0.6569980779311551"
      ]
     },
     "execution_count": 26,
     "metadata": {},
     "output_type": "execute_result"
    }
   ],
   "source": [
    "#Calculate F1-score\n",
    "from sklearn.metrics import f1_score\n",
    "from sklearn import metrics\n",
    "s = metrics.f1_score(y2_test,y2_pred, average='weighted')\n",
    "s"
   ]
  },
  {
   "cell_type": "code",
   "execution_count": null,
   "metadata": {},
   "outputs": [],
   "source": []
  },
  {
   "cell_type": "code",
   "execution_count": null,
   "metadata": {},
   "outputs": [],
   "source": []
  }
 ],
 "metadata": {
  "kernelspec": {
   "display_name": "Python 3.7.3 ('base')",
   "language": "python",
   "name": "python3"
  },
  "language_info": {
   "codemirror_mode": {
    "name": "ipython",
    "version": 3
   },
   "file_extension": ".py",
   "mimetype": "text/x-python",
   "name": "python",
   "nbconvert_exporter": "python",
   "pygments_lexer": "ipython3",
   "version": "3.7.3"
  },
  "vscode": {
   "interpreter": {
    "hash": "5ae58900cfbb8c43ab3495913814b7cf26024f51651a94ce8bf64d6111688e8d"
   }
  }
 },
 "nbformat": 4,
 "nbformat_minor": 2
}
